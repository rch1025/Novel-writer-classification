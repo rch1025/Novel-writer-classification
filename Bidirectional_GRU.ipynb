{
  "nbformat": 4,
  "nbformat_minor": 0,
  "metadata": {
    "colab": {
      "name": "Bidirectional GRU.ipynb",
      "provenance": [],
      "machine_shape": "hm",
      "authorship_tag": "ABX9TyMQZvwfOPB8GvA8o7tOj3Ba",
      "include_colab_link": true
    },
    "kernelspec": {
      "name": "python3",
      "display_name": "Python 3"
    },
    "accelerator": "GPU"
  },
  "cells": [
    {
      "cell_type": "markdown",
      "metadata": {
        "id": "view-in-github",
        "colab_type": "text"
      },
      "source": [
        "<a href=\"https://colab.research.google.com/github/Joonyoung-Song/DACON-NLP_competition/blob/main/Bidirectional_GRU.ipynb\" target=\"_parent\"><img src=\"https://colab.research.google.com/assets/colab-badge.svg\" alt=\"Open In Colab\"/></a>"
      ]
    },
    {
      "cell_type": "code",
      "metadata": {
        "colab": {
          "base_uri": "https://localhost:8080/"
        },
        "id": "ygv7YDmUex76",
        "outputId": "2c53a295-79d8-473f-b6fd-0c9f52a22c21"
      },
      "source": [
        "from psutil import virtual_memory\n",
        "ram_gb = virtual_memory().total / 1e9\n",
        "print('Your runtime has {:.1f} gigabytes of available RAM\\n'.format(ram_gb))\n",
        "\n",
        "if ram_gb < 20:\n",
        "  print('To enable a high-RAM runtime, select the Runtime > \"Change runtime type\"')\n",
        "  print('menu, and then select High-RAM in the Runtime shape dropdown. Then, ')\n",
        "  print('re-execute this cell.')\n",
        "else:\n",
        "  print('You are using a high-RAM runtime!')"
      ],
      "execution_count": 1,
      "outputs": [
        {
          "output_type": "stream",
          "text": [
            "Your runtime has 27.4 gigabytes of available RAM\n",
            "\n",
            "You are using a high-RAM runtime!\n"
          ],
          "name": "stdout"
        }
      ]
    },
    {
      "cell_type": "code",
      "metadata": {
        "ExecuteTime": {
          "end_time": "2020-11-09T07:17:40.319442Z",
          "start_time": "2020-11-09T07:17:40.210384Z"
        },
        "id": "YVBK3H6bQhMu"
      },
      "source": [
        "%reload_ext autoreload\n",
        "%autoreload 2\n",
        "%matplotlib inline"
      ],
      "execution_count": 2,
      "outputs": []
    },
    {
      "cell_type": "code",
      "metadata": {
        "ExecuteTime": {
          "end_time": "2020-11-09T08:29:51.661312Z",
          "start_time": "2020-11-09T08:29:51.555024Z"
        },
        "id": "TmA1Au6CCaC7"
      },
      "source": [
        "from matplotlib import rcParams, pyplot as plt\n",
        "import numpy as np\n",
        "import pandas as pd\n",
        "from pathlib import Path\n",
        "import re\n",
        "from sklearn.metrics import accuracy_score, log_loss\n",
        "from sklearn.model_selection import StratifiedKFold\n",
        "import tensorflow as tf\n",
        "from tensorflow.keras import Sequential\n",
        "from tensorflow.keras.layers import Dense, Embedding, LSTM, GlobalMaxPooling1D, Conv1D, Dropout, Bidirectional,GRU\n",
        "from tensorflow.keras.preprocessing.sequence import pad_sequences\n",
        "from tensorflow.keras.preprocessing.text import Tokenizer\n",
        "from tensorflow.keras.callbacks import EarlyStopping, ReduceLROnPlateau\n",
        "from tensorflow.keras.utils import plot_model, to_categorical\n",
        "from tensorflow.keras.optimizers import Adam\n",
        "from nltk.tokenize import word_tokenize\n",
        "import warnings\n",
        "import gensim \n",
        "\n",
        "import os\n",
        "warnings.filterwarnings(action='ignore')"
      ],
      "execution_count": 3,
      "outputs": []
    },
    {
      "cell_type": "code",
      "metadata": {
        "id": "CIPnkXKBQhNY",
        "colab": {
          "base_uri": "https://localhost:8080/",
          "height": 35
        },
        "outputId": "79ee8f5e-b77b-4380-9b78-8fed4af7529f"
      },
      "source": [
        "tf.__version__"
      ],
      "execution_count": 4,
      "outputs": [
        {
          "output_type": "execute_result",
          "data": {
            "application/vnd.google.colaboratory.intrinsic+json": {
              "type": "string"
            },
            "text/plain": [
              "'2.3.0'"
            ]
          },
          "metadata": {
            "tags": []
          },
          "execution_count": 4
        }
      ]
    },
    {
      "cell_type": "code",
      "metadata": {
        "ExecuteTime": {
          "end_time": "2020-11-09T07:17:40.488107Z",
          "start_time": "2020-11-09T07:17:40.407219Z"
        },
        "id": "wunoAU99QhNv"
      },
      "source": [
        "rcParams['figure.figsize'] = (16, 8)\n",
        "plt.style.use('fivethirtyeight')\n",
        "pd.set_option('max_columns', 100)\n",
        "pd.set_option(\"display.precision\", 4)\n",
        "warnings.simplefilter('ignore')"
      ],
      "execution_count": 5,
      "outputs": []
    },
    {
      "cell_type": "markdown",
      "metadata": {
        "id": "D4au_fdPQhN8"
      },
      "source": [
        "## 학습데이터 로드"
      ]
    },
    {
      "cell_type": "code",
      "metadata": {
        "id": "KpsLd53hQsnW",
        "colab": {
          "base_uri": "https://localhost:8080/"
        },
        "outputId": "399fb2d8-a442-494e-b569-f6f7a4be1441"
      },
      "source": [
        "from google.colab import drive\n",
        "drive.mount('/gdrive', force_remount=True)"
      ],
      "execution_count": 6,
      "outputs": [
        {
          "output_type": "stream",
          "text": [
            "Mounted at /gdrive\n"
          ],
          "name": "stdout"
        }
      ]
    },
    {
      "cell_type": "code",
      "metadata": {
        "ExecuteTime": {
          "end_time": "2020-11-09T07:17:40.570425Z",
          "start_time": "2020-11-09T07:17:40.490608Z"
        },
        "id": "0ZwTCLUOCtUu"
      },
      "source": [
        "data_dir = Path('/gdrive/My Drive/dacon_nlp_competition/data')\n",
        "feature_dir = Path('/gdrive/My Drive/dacon_nlp_competition/build/feature')\n",
        "val_dir = Path('/gdrive/My Drive/dacon_nlp_competition/build/val')\n",
        "tst_dir = Path('/gdrive/My Drive/dacon_nlp_competition/build/tst')\n",
        "sub_dir = Path('/gdrive/My Drive/dacon_nlp_competition/build/sub')\n",
        "\n",
        "trn_file = data_dir / 'train.csv'\n",
        "tst_file = data_dir / 'test_x.csv'\n",
        "sample_file = data_dir / 'sample_submission.csv'\n",
        "\n",
        "target_col = 'author'\n",
        "n_fold = 5\n",
        "n_class = 5\n",
        "seed = 42"
      ],
      "execution_count": 7,
      "outputs": []
    },
    {
      "cell_type": "code",
      "metadata": {
        "ExecuteTime": {
          "end_time": "2020-11-09T07:17:40.654357Z",
          "start_time": "2020-11-09T07:17:40.572310Z"
        },
        "id": "HVBRt9kFQhON"
      },
      "source": [
        "algo_name = 'LSTM'\n",
        "feature_name = 'emb'\n",
        "model_name = f'{algo_name}_{feature_name}'\n",
        "\n",
        "feature_file = feature_dir / f'{feature_name}.csv'\n",
        "p_val_file = val_dir / f'{model_name}.val.csv'\n",
        "p_tst_file = tst_dir / f'{model_name}.tst.csv'\n",
        "sub_file = sub_dir / f'{model_name}.csv'"
      ],
      "execution_count": 8,
      "outputs": []
    },
    {
      "cell_type": "code",
      "metadata": {
        "ExecuteTime": {
          "end_time": "2020-11-09T07:17:40.913730Z",
          "start_time": "2020-11-09T07:17:40.656475Z"
        },
        "id": "SvX_U2ETC7vA",
        "colab": {
          "base_uri": "https://localhost:8080/",
          "height": 225
        },
        "outputId": "33a4b609-c6a2-4768-ecd5-648897dff5f6"
      },
      "source": [
        "train = pd.read_csv(trn_file, encoding = 'utf-8',index_col=0)\n",
        "train.head()"
      ],
      "execution_count": 85,
      "outputs": [
        {
          "output_type": "execute_result",
          "data": {
            "text/html": [
              "<div>\n",
              "<style scoped>\n",
              "    .dataframe tbody tr th:only-of-type {\n",
              "        vertical-align: middle;\n",
              "    }\n",
              "\n",
              "    .dataframe tbody tr th {\n",
              "        vertical-align: top;\n",
              "    }\n",
              "\n",
              "    .dataframe thead th {\n",
              "        text-align: right;\n",
              "    }\n",
              "</style>\n",
              "<table border=\"1\" class=\"dataframe\">\n",
              "  <thead>\n",
              "    <tr style=\"text-align: right;\">\n",
              "      <th></th>\n",
              "      <th>text</th>\n",
              "      <th>author</th>\n",
              "    </tr>\n",
              "    <tr>\n",
              "      <th>index</th>\n",
              "      <th></th>\n",
              "      <th></th>\n",
              "    </tr>\n",
              "  </thead>\n",
              "  <tbody>\n",
              "    <tr>\n",
              "      <th>0</th>\n",
              "      <td>He was almost choking. There was so much, so m...</td>\n",
              "      <td>3</td>\n",
              "    </tr>\n",
              "    <tr>\n",
              "      <th>1</th>\n",
              "      <td>“Your sister asked for it, I suppose?”</td>\n",
              "      <td>2</td>\n",
              "    </tr>\n",
              "    <tr>\n",
              "      <th>2</th>\n",
              "      <td>She was engaged one day as she walked, in per...</td>\n",
              "      <td>1</td>\n",
              "    </tr>\n",
              "    <tr>\n",
              "      <th>3</th>\n",
              "      <td>The captain was in the porch, keeping himself ...</td>\n",
              "      <td>4</td>\n",
              "    </tr>\n",
              "    <tr>\n",
              "      <th>4</th>\n",
              "      <td>“Have mercy, gentlemen!” odin flung up his han...</td>\n",
              "      <td>3</td>\n",
              "    </tr>\n",
              "  </tbody>\n",
              "</table>\n",
              "</div>"
            ],
            "text/plain": [
              "                                                    text  author\n",
              "index                                                           \n",
              "0      He was almost choking. There was so much, so m...       3\n",
              "1                 “Your sister asked for it, I suppose?”       2\n",
              "2       She was engaged one day as she walked, in per...       1\n",
              "3      The captain was in the porch, keeping himself ...       4\n",
              "4      “Have mercy, gentlemen!” odin flung up his han...       3"
            ]
          },
          "metadata": {
            "tags": []
          },
          "execution_count": 85
        }
      ]
    },
    {
      "cell_type": "code",
      "metadata": {
        "ExecuteTime": {
          "end_time": "2020-11-09T07:17:41.097183Z",
          "start_time": "2020-11-09T07:17:40.915394Z"
        },
        "id": "8MxZsr6yCshr",
        "colab": {
          "base_uri": "https://localhost:8080/",
          "height": 225
        },
        "outputId": "a13abae5-0a7b-4266-aec2-0a378b8e6a1d"
      },
      "source": [
        "test = pd.read_csv(tst_file, encoding = 'utf-8',index_col=0)\n",
        "test.head()"
      ],
      "execution_count": 86,
      "outputs": [
        {
          "output_type": "execute_result",
          "data": {
            "text/html": [
              "<div>\n",
              "<style scoped>\n",
              "    .dataframe tbody tr th:only-of-type {\n",
              "        vertical-align: middle;\n",
              "    }\n",
              "\n",
              "    .dataframe tbody tr th {\n",
              "        vertical-align: top;\n",
              "    }\n",
              "\n",
              "    .dataframe thead th {\n",
              "        text-align: right;\n",
              "    }\n",
              "</style>\n",
              "<table border=\"1\" class=\"dataframe\">\n",
              "  <thead>\n",
              "    <tr style=\"text-align: right;\">\n",
              "      <th></th>\n",
              "      <th>text</th>\n",
              "    </tr>\n",
              "    <tr>\n",
              "      <th>index</th>\n",
              "      <th></th>\n",
              "    </tr>\n",
              "  </thead>\n",
              "  <tbody>\n",
              "    <tr>\n",
              "      <th>0</th>\n",
              "      <td>“Not at all. I think she is one of the most ch...</td>\n",
              "    </tr>\n",
              "    <tr>\n",
              "      <th>1</th>\n",
              "      <td>\"No,\" replied he, with sudden consciousness, \"...</td>\n",
              "    </tr>\n",
              "    <tr>\n",
              "      <th>2</th>\n",
              "      <td>As the lady had stated her intention of scream...</td>\n",
              "    </tr>\n",
              "    <tr>\n",
              "      <th>3</th>\n",
              "      <td>“And then suddenly in the silence I heard a so...</td>\n",
              "    </tr>\n",
              "    <tr>\n",
              "      <th>4</th>\n",
              "      <td>His conviction remained unchanged. So far as I...</td>\n",
              "    </tr>\n",
              "  </tbody>\n",
              "</table>\n",
              "</div>"
            ],
            "text/plain": [
              "                                                    text\n",
              "index                                                   \n",
              "0      “Not at all. I think she is one of the most ch...\n",
              "1      \"No,\" replied he, with sudden consciousness, \"...\n",
              "2      As the lady had stated her intention of scream...\n",
              "3      “And then suddenly in the silence I heard a so...\n",
              "4      His conviction remained unchanged. So far as I..."
            ]
          },
          "metadata": {
            "tags": []
          },
          "execution_count": 86
        }
      ]
    },
    {
      "cell_type": "markdown",
      "metadata": {
        "id": "PPq0vxJVDS3R"
      },
      "source": [
        "## Preprocessing"
      ]
    },
    {
      "cell_type": "markdown",
      "metadata": {
        "id": "agpoFKAFTH7W"
      },
      "source": [
        "## 불용어 제거"
      ]
    },
    {
      "cell_type": "code",
      "metadata": {
        "ExecuteTime": {
          "end_time": "2020-11-09T07:17:41.186669Z",
          "start_time": "2020-11-09T07:17:41.100182Z"
        },
        "id": "vf_TGrbKCaDK"
      },
      "source": [
        "#알파벳과 숫자를 제외한 나머지 제거\n",
        "def alpha_num(text):\n",
        "    return re.sub(r'[^A-Za-z0-9 ]', '', text)\n",
        "\n",
        "#불용어 제거\n",
        "def remove_stopwords(text):\n",
        "    final_text = []\n",
        "    for i in text.split():\n",
        "        if i.strip().lower() not in stopwords:\n",
        "            final_text.append(i.strip())\n",
        "    return \" \".join(final_text)\n",
        "\n",
        "stopwords = [\n",
        "            #  \"the\"\n",
        "            #  \"a\", \"about\", \"above\", \"after\", \"again\", \"against\", \"all\", \"am\", \"an\", \"and\", \"any\", \"are\", \"as\", \n",
        "            #  \"at\", \"be\", \"because\", \"been\", \"before\", \"being\", \"below\", \"between\", \"both\", \"but\", \"by\", \"could\", \n",
        "            #  \"did\", \"do\", \"does\", \"doing\", \"down\", \"during\", \"each\", \"few\", \"for\", \"from\", \"further\", \"had\", \"has\", \n",
        "            #  \"have\", \"having\", \"he\", \"he'd\", \"he'll\", \"he's\", \"her\", \"here\", \"here's\", \"hers\", \"herself\", \"him\", \"himself\", \n",
        "            #  \"his\", \"how\", \"how's\", \"i\", \"i'd\", \"i'll\", \"i'm\", \"i've\", \"if\", \"in\", \"into\", \"is\", \"it\", \"it's\", \"its\", \"itself\", \n",
        "            #  \"let's\", \"me\", \"more\", \"most\", \"my\", \"myself\", \"nor\", \"of\", \"on\", \"once\", \"only\", \"or\", \"other\", \"ought\", \"our\", \"ours\", \n",
        "            #  \"ourselves\", \"out\", \"over\", \"own\", \"same\", \"she\", \"she'd\", \"she'll\", \"she's\", \"should\", \"so\", \"some\", \"such\", \"than\", \"that\", \n",
        "            #  \"that's\", \"the\", \"their\", \"theirs\", \"them\", \"themselves\", \"then\", \"there\", \"there's\", \"these\", \"they\", \"they'd\", \"they'll\", \n",
        "            #  \"they're\", \"they've\", \"this\", \"those\", \"through\", \"to\", \"too\", \"under\", \"until\", \"up\", \"very\", \"was\", \"we\", \"we'd\", \"we'll\", \n",
        "            #  \"we're\", \"we've\", \"were\", \"what\", \"what's\", \"when\", \"when's\", \"where\", \"where's\", \"which\", \"while\", \"who\", \"who's\", \"whom\", \n",
        "            #  \"why\", \"why's\", \"with\", \"would\", \"you\", \"you'd\", \"you'll\", \"you're\", \"you've\", \"your\", \"yours\", \"yourself\", \"yourselves\" \n",
        "             ]"
      ],
      "execution_count": 77,
      "outputs": []
    },
    {
      "cell_type": "code",
      "metadata": {
        "ExecuteTime": {
          "end_time": "2020-11-09T07:17:47.638834Z",
          "start_time": "2020-11-09T07:17:41.189263Z"
        },
        "id": "sUgcc07ADiiU"
      },
      "source": [
        "#작가 분류이기 때문에 불용어를 제거 하지 않는 것이 성능향상에 도움됨\n",
        "\n",
        "# train['text'] = train['text'].str.lower()\n",
        "# test['text'] = test['text'].str.lower()\n",
        "train['text'] = train['text'].apply(alpha_num)\n",
        "# .apply(remove_stopwords)\n",
        "test['text'] = test['text'].apply(alpha_num)\n",
        "# .apply(remove_stopwords)"
      ],
      "execution_count": 87,
      "outputs": []
    },
    {
      "cell_type": "code",
      "metadata": {
        "colab": {
          "base_uri": "https://localhost:8080/"
        },
        "id": "pGgcDOMiZ7Y-",
        "outputId": "f2d874aa-f06d-427a-ae43-6ff7e2c5c9f5"
      },
      "source": [
        "X_train = train['text'].values\n",
        "X_test = test['text'].values\n",
        "y = train['author'].values\n",
        "print(X_train.shape, X_test.shape, y.shape)"
      ],
      "execution_count": 88,
      "outputs": [
        {
          "output_type": "stream",
          "text": [
            "(54879,) (19617,) (54879,)\n"
          ],
          "name": "stdout"
        }
      ]
    },
    {
      "cell_type": "markdown",
      "metadata": {
        "id": "Ks1FhSNUHrke"
      },
      "source": [
        "## Training"
      ]
    },
    {
      "cell_type": "code",
      "metadata": {
        "id": "SMXOtkczdaId"
      },
      "source": [
        "max_length = 500\n",
        "vocab_size = 20000\n",
        "embedding_dim = 32\n",
        "padding_type='post'"
      ],
      "execution_count": 89,
      "outputs": []
    },
    {
      "cell_type": "code",
      "metadata": {
        "ExecuteTime": {
          "end_time": "2020-11-09T07:17:49.050466Z",
          "start_time": "2020-11-09T07:17:47.893945Z"
        },
        "id": "UvR9_VnTD8L9"
      },
      "source": [
        "tokenizer = Tokenizer(num_words = vocab_size)\n",
        "tokenizer.fit_on_texts(X_train)\n",
        "word_index = tokenizer.word_index"
      ],
      "execution_count": 90,
      "outputs": []
    },
    {
      "cell_type": "code",
      "metadata": {
        "colab": {
          "base_uri": "https://localhost:8080/"
        },
        "id": "enr9WJT7wWgE",
        "outputId": "59825c15-8975-460a-dc2d-f76184bbf85e"
      },
      "source": [
        "len(word_index)"
      ],
      "execution_count": 91,
      "outputs": [
        {
          "output_type": "execute_result",
          "data": {
            "text/plain": [
              "47256"
            ]
          },
          "metadata": {
            "tags": []
          },
          "execution_count": 91
        }
      ]
    },
    {
      "cell_type": "code",
      "metadata": {
        "ExecuteTime": {
          "end_time": "2020-11-09T07:17:50.562238Z",
          "start_time": "2020-11-09T07:17:49.052123Z"
        },
        "id": "ap1KdnlhQhQK"
      },
      "source": [
        "train_sequences = tokenizer.texts_to_sequences(X_train)\n",
        "test_sequences = tokenizer.texts_to_sequences(X_test)"
      ],
      "execution_count": 92,
      "outputs": []
    },
    {
      "cell_type": "code",
      "metadata": {
        "colab": {
          "base_uri": "https://localhost:8080/"
        },
        "id": "-w--RWfhd2AH",
        "outputId": "fb3e18d1-18d2-43a7-c2bb-ce2e2862312f"
      },
      "source": [
        "pd.DataFrame(train_sequences).shape"
      ],
      "execution_count": 93,
      "outputs": [
        {
          "output_type": "execute_result",
          "data": {
            "text/plain": [
              "(54879, 468)"
            ]
          },
          "metadata": {
            "tags": []
          },
          "execution_count": 93
        }
      ]
    },
    {
      "cell_type": "code",
      "metadata": {
        "ExecuteTime": {
          "end_time": "2020-11-09T07:17:51.036779Z",
          "start_time": "2020-11-09T07:17:50.563983Z"
        },
        "id": "ZQPwyZt0EEHW",
        "colab": {
          "base_uri": "https://localhost:8080/"
        },
        "outputId": "6de4ec10-963e-45e4-f74e-4de8fe3c6e6a"
      },
      "source": [
        "trn = pad_sequences(train_sequences, padding=padding_type, maxlen=max_length)\n",
        "tst = pad_sequences(test_sequences, padding=padding_type, maxlen=max_length)\n",
        "print(trn.shape, tst.shape)"
      ],
      "execution_count": 94,
      "outputs": [
        {
          "output_type": "stream",
          "text": [
            "(54879, 500) (19617, 500)\n"
          ],
          "name": "stdout"
        }
      ]
    },
    {
      "cell_type": "code",
      "metadata": {
        "ExecuteTime": {
          "end_time": "2020-11-09T07:17:51.120634Z",
          "start_time": "2020-11-09T07:17:51.038529Z"
        },
        "id": "IGNV5dXyQhQi"
      },
      "source": [
        "cv = StratifiedKFold(n_splits=n_fold, shuffle=True, random_state=seed)"
      ],
      "execution_count": 95,
      "outputs": []
    },
    {
      "cell_type": "code",
      "metadata": {
        "id": "PrpsYtop2soZ"
      },
      "source": [
        "import tensorflow as tf\n",
        "tf.random.set_seed(seed)\n",
        "np.random.seed(seed)"
      ],
      "execution_count": 96,
      "outputs": []
    },
    {
      "cell_type": "code",
      "metadata": {
        "ExecuteTime": {
          "end_time": "2020-11-09T08:51:13.082360Z",
          "start_time": "2020-11-09T08:51:12.973808Z"
        },
        "id": "U2CxfUPZEOu0"
      },
      "source": [
        "def get_model():    \n",
        "    #  with tf.device('/device:GPU:0'):  \n",
        "        model = Sequential([\n",
        "            Embedding(vocab_size, embedding_dim, input_length=max_length),\n",
        "            # Embedding(47256, 300, weights=[embedding_matrix], input_length=max_length, trainable=False),\n",
        "            Bidirectional(GRU(16, return_sequences=True)),\n",
        "            # Dropout(0.1),\n",
        "            Bidirectional(GRU(16)),\n",
        "            Dense(n_class, activation='softmax')\n",
        "        ])\n",
        "\n",
        "        model.compile(loss='categorical_crossentropy', optimizer=Adam(learning_rate=.01))\n",
        "        return model"
      ],
      "execution_count": 111,
      "outputs": []
    },
    {
      "cell_type": "code",
      "metadata": {
        "ExecuteTime": {
          "start_time": "2020-11-09T08:51:14.408Z"
        },
        "id": "MH9dQAstQhQ2",
        "colab": {
          "base_uri": "https://localhost:8080/"
        },
        "outputId": "d6346b71-1d25-449f-a2cd-4f7846118fc7"
      },
      "source": [
        "p_val = np.zeros((trn.shape[0], n_class))\n",
        "p_tst = np.zeros((tst.shape[0], n_class))\n",
        "for i, (i_trn, i_val) in enumerate(cv.split(trn, y), 1):\n",
        "    print(f'training model for CV #{i}')\n",
        "    clf = get_model()\n",
        "    \n",
        "    es = EarlyStopping(monitor='val_loss', min_delta=0.001, patience=2,\n",
        "                       verbose=1, mode='min', baseline=None, restore_best_weights=True)\n",
        "    \n",
        "    # rlr = ReduceLROnPlateau(monitor='val_loss', factor=0.5,\n",
        "    #                     patience=3, min_lr=1e-6, mode='min', verbose=1)\n",
        "\n",
        "    clf.fit(trn[i_trn], \n",
        "            to_categorical(y[i_trn]),\n",
        "            validation_data=(trn[i_val], to_categorical(y[i_val])),\n",
        "            epochs=10,\n",
        "            callbacks=[es\n",
        "                      #  ,rlr\n",
        "                       ]\n",
        "            )\n",
        "    p_val[i_val, :] = clf.predict(trn[i_val])\n",
        "    p_tst += clf.predict(tst) / n_fold"
      ],
      "execution_count": 112,
      "outputs": [
        {
          "output_type": "stream",
          "text": [
            "training model for CV #1\n",
            "Epoch 1/10\n",
            "1372/1372 [==============================] - 104s 76ms/step - loss: 0.9047 - val_loss: 0.6746\n",
            "Epoch 2/10\n",
            "1372/1372 [==============================] - 103s 75ms/step - loss: 0.5723 - val_loss: 0.7265\n",
            "Epoch 3/10\n",
            "1372/1372 [==============================] - ETA: 0s - loss: 0.4276Restoring model weights from the end of the best epoch.\n",
            "1372/1372 [==============================] - 104s 76ms/step - loss: 0.4276 - val_loss: 0.7536\n",
            "Epoch 00003: early stopping\n",
            "training model for CV #2\n",
            "Epoch 1/10\n",
            "1372/1372 [==============================] - 104s 76ms/step - loss: 0.8948 - val_loss: 0.6930\n",
            "Epoch 2/10\n",
            "1372/1372 [==============================] - 102s 75ms/step - loss: 0.5360 - val_loss: 0.9053\n",
            "Epoch 3/10\n",
            "1372/1372 [==============================] - ETA: 0s - loss: 0.5892Restoring model weights from the end of the best epoch.\n",
            "1372/1372 [==============================] - 103s 75ms/step - loss: 0.5892 - val_loss: 0.8053\n",
            "Epoch 00003: early stopping\n",
            "training model for CV #3\n",
            "Epoch 1/10\n",
            "1372/1372 [==============================] - 103s 75ms/step - loss: 0.9201 - val_loss: 0.7236\n",
            "Epoch 2/10\n",
            "1372/1372 [==============================] - 103s 75ms/step - loss: 0.5176 - val_loss: 0.6756\n",
            "Epoch 3/10\n",
            "1372/1372 [==============================] - 101s 73ms/step - loss: 0.3740 - val_loss: 0.7629\n",
            "Epoch 4/10\n",
            "1372/1372 [==============================] - ETA: 0s - loss: 0.3099Restoring model weights from the end of the best epoch.\n",
            "1372/1372 [==============================] - 103s 75ms/step - loss: 0.3099 - val_loss: 0.8781\n",
            "Epoch 00004: early stopping\n",
            "training model for CV #4\n",
            "Epoch 1/10\n",
            "1372/1372 [==============================] - 103s 75ms/step - loss: 0.9070 - val_loss: 0.6802\n",
            "Epoch 2/10\n",
            "1372/1372 [==============================] - 103s 75ms/step - loss: 0.6154 - val_loss: 0.8082\n",
            "Epoch 3/10\n",
            "1372/1372 [==============================] - ETA: 0s - loss: 0.5211Restoring model weights from the end of the best epoch.\n",
            "1372/1372 [==============================] - 102s 74ms/step - loss: 0.5211 - val_loss: 0.8102\n",
            "Epoch 00003: early stopping\n",
            "training model for CV #5\n",
            "Epoch 1/10\n",
            "1372/1372 [==============================] - 101s 74ms/step - loss: 0.9149 - val_loss: 0.8188\n",
            "Epoch 2/10\n",
            "1372/1372 [==============================] - 102s 74ms/step - loss: 0.5302 - val_loss: 0.7049\n",
            "Epoch 3/10\n",
            "1372/1372 [==============================] - 105s 76ms/step - loss: 0.3860 - val_loss: 0.7630\n",
            "Epoch 4/10\n",
            "1372/1372 [==============================] - ETA: 0s - loss: 0.3207Restoring model weights from the end of the best epoch.\n",
            "1372/1372 [==============================] - 106s 78ms/step - loss: 0.3207 - val_loss: 0.8276\n",
            "Epoch 00004: early stopping\n"
          ],
          "name": "stdout"
        }
      ]
    },
    {
      "cell_type": "code",
      "metadata": {
        "ExecuteTime": {
          "start_time": "2020-11-09T08:51:16.262Z"
        },
        "id": "K_cWNWo9QhQ7",
        "colab": {
          "base_uri": "https://localhost:8080/"
        },
        "outputId": "7ab5de73-9182-4174-d7eb-f9dea9fac53c"
      },
      "source": [
        "print(f'Accuracy (CV): {accuracy_score(y, np.argmax(p_val, axis=1)) * 100:8.4f}%')\n",
        "print(f'Log Loss (CV): {log_loss(pd.get_dummies(y), p_val):8.4f}')"
      ],
      "execution_count": 113,
      "outputs": [
        {
          "output_type": "stream",
          "text": [
            "Accuracy (CV):  74.7554%\n",
            "Log Loss (CV):   0.6856\n"
          ],
          "name": "stdout"
        }
      ]
    },
    {
      "cell_type": "code",
      "metadata": {
        "ExecuteTime": {
          "start_time": "2020-11-09T08:51:17.262Z"
        },
        "id": "E_FTrn4RQhRC"
      },
      "source": [
        "algo_name = 'GRU'\n",
        "feature_name = 'emb'\n",
        "algo_logloss = f'{log_loss(pd.get_dummies(y), p_val):8.4f}'\n",
        "model_name = f'{algo_name}_{feature_name}_{algo_logloss}'\n",
        "\n",
        "feature_file = feature_dir / f'{feature_name}.csv'\n",
        "p_val_file = val_dir / f'{model_name}.val.csv'\n",
        "p_tst_file = tst_dir / f'{model_name}.tst.csv'\n",
        "sub_file = sub_dir / f'{model_name}.csv'\n",
        "\n",
        "np.savetxt(p_val_file, p_val, fmt='%.6f', delimiter=',')\n",
        "np.savetxt(p_tst_file, p_tst, fmt='%.6f', delimiter=',')"
      ],
      "execution_count": 114,
      "outputs": []
    },
    {
      "cell_type": "markdown",
      "metadata": {
        "id": "MDNpY2VNQhRG"
      },
      "source": [
        "## 시각화"
      ]
    },
    {
      "cell_type": "code",
      "metadata": {
        "ExecuteTime": {
          "start_time": "2020-11-09T08:51:17.870Z"
        },
        "id": "wxUTpZnPEXJX",
        "colab": {
          "base_uri": "https://localhost:8080/"
        },
        "outputId": "06876251-aed7-4cc6-fd2b-d48e2279d6e0"
      },
      "source": [
        "# model summary\n",
        "print(clf.summary())"
      ],
      "execution_count": null,
      "outputs": [
        {
          "output_type": "stream",
          "text": [
            "Model: \"sequential_11\"\n",
            "_________________________________________________________________\n",
            "Layer (type)                 Output Shape              Param #   \n",
            "=================================================================\n",
            "embedding_11 (Embedding)     (None, 220, 64)           1280000   \n",
            "_________________________________________________________________\n",
            "bidirectional_23 (Bidirectio (None, 220, 128)          66048     \n",
            "_________________________________________________________________\n",
            "bidirectional_24 (Bidirectio (None, 128)               98816     \n",
            "_________________________________________________________________\n",
            "dense_11 (Dense)             (None, 5)                 645       \n",
            "=================================================================\n",
            "Total params: 1,445,509\n",
            "Trainable params: 1,445,509\n",
            "Non-trainable params: 0\n",
            "_________________________________________________________________\n",
            "None\n"
          ],
          "name": "stdout"
        }
      ]
    },
    {
      "cell_type": "code",
      "metadata": {
        "ExecuteTime": {
          "start_time": "2020-11-09T08:51:18.150Z"
        },
        "id": "jWn3twdIQhRS",
        "colab": {
          "base_uri": "https://localhost:8080/",
          "height": 466
        },
        "outputId": "ca2d2924-f152-4b91-bcf3-4af3c82bcd24"
      },
      "source": [
        "plot_model(clf)"
      ],
      "execution_count": null,
      "outputs": [
        {
          "output_type": "execute_result",
          "data": {
            "image/png": "[encoded data removed]",
            "text/plain": [
              "<IPython.core.display.Image object>"
            ]
          },
          "metadata": {
            "tags": []
          },
          "execution_count": 163
        }
      ]
    },
    {
      "cell_type": "markdown",
      "metadata": {
        "id": "Rj1TlxGzQhRu"
      },
      "source": [
        "## 제출 파일 생성\n"
      ]
    },
    {
      "cell_type": "code",
      "metadata": {
        "ExecuteTime": {
          "start_time": "2020-11-09T08:51:19.093Z"
        },
        "id": "3jXKoOWIC6g0",
        "colab": {
          "base_uri": "https://localhost:8080/",
          "height": 0
        },
        "outputId": "83eab28f-c476-4285-a400-bdbd3d736195"
      },
      "source": [
        "sub = pd.read_csv(sample_file, index_col=0)\n",
        "print(sub.shape)\n",
        "sub.head()"
      ],
      "execution_count": 115,
      "outputs": [
        {
          "output_type": "stream",
          "text": [
            "(19617, 5)\n"
          ],
          "name": "stdout"
        },
        {
          "output_type": "execute_result",
          "data": {
            "text/html": [
              "<div>\n",
              "<style scoped>\n",
              "    .dataframe tbody tr th:only-of-type {\n",
              "        vertical-align: middle;\n",
              "    }\n",
              "\n",
              "    .dataframe tbody tr th {\n",
              "        vertical-align: top;\n",
              "    }\n",
              "\n",
              "    .dataframe thead th {\n",
              "        text-align: right;\n",
              "    }\n",
              "</style>\n",
              "<table border=\"1\" class=\"dataframe\">\n",
              "  <thead>\n",
              "    <tr style=\"text-align: right;\">\n",
              "      <th></th>\n",
              "      <th>0</th>\n",
              "      <th>1</th>\n",
              "      <th>2</th>\n",
              "      <th>3</th>\n",
              "      <th>4</th>\n",
              "    </tr>\n",
              "    <tr>\n",
              "      <th>index</th>\n",
              "      <th></th>\n",
              "      <th></th>\n",
              "      <th></th>\n",
              "      <th></th>\n",
              "      <th></th>\n",
              "    </tr>\n",
              "  </thead>\n",
              "  <tbody>\n",
              "    <tr>\n",
              "      <th>0</th>\n",
              "      <td>0</td>\n",
              "      <td>0</td>\n",
              "      <td>0</td>\n",
              "      <td>0</td>\n",
              "      <td>0</td>\n",
              "    </tr>\n",
              "    <tr>\n",
              "      <th>1</th>\n",
              "      <td>0</td>\n",
              "      <td>0</td>\n",
              "      <td>0</td>\n",
              "      <td>0</td>\n",
              "      <td>0</td>\n",
              "    </tr>\n",
              "    <tr>\n",
              "      <th>2</th>\n",
              "      <td>0</td>\n",
              "      <td>0</td>\n",
              "      <td>0</td>\n",
              "      <td>0</td>\n",
              "      <td>0</td>\n",
              "    </tr>\n",
              "    <tr>\n",
              "      <th>3</th>\n",
              "      <td>0</td>\n",
              "      <td>0</td>\n",
              "      <td>0</td>\n",
              "      <td>0</td>\n",
              "      <td>0</td>\n",
              "    </tr>\n",
              "    <tr>\n",
              "      <th>4</th>\n",
              "      <td>0</td>\n",
              "      <td>0</td>\n",
              "      <td>0</td>\n",
              "      <td>0</td>\n",
              "      <td>0</td>\n",
              "    </tr>\n",
              "  </tbody>\n",
              "</table>\n",
              "</div>"
            ],
            "text/plain": [
              "       0  1  2  3  4\n",
              "index               \n",
              "0      0  0  0  0  0\n",
              "1      0  0  0  0  0\n",
              "2      0  0  0  0  0\n",
              "3      0  0  0  0  0\n",
              "4      0  0  0  0  0"
            ]
          },
          "metadata": {
            "tags": []
          },
          "execution_count": 115
        }
      ]
    },
    {
      "cell_type": "code",
      "metadata": {
        "ExecuteTime": {
          "start_time": "2020-11-09T08:51:19.342Z"
        },
        "id": "F4S8eUx5FDFO",
        "colab": {
          "base_uri": "https://localhost:8080/",
          "height": 0
        },
        "outputId": "9c1316d5-7896-42b4-af97-a4ce56f699f7"
      },
      "source": [
        "sub[sub.columns] = p_tst\n",
        "sub.head()"
      ],
      "execution_count": 116,
      "outputs": [
        {
          "output_type": "execute_result",
          "data": {
            "text/html": [
              "<div>\n",
              "<style scoped>\n",
              "    .dataframe tbody tr th:only-of-type {\n",
              "        vertical-align: middle;\n",
              "    }\n",
              "\n",
              "    .dataframe tbody tr th {\n",
              "        vertical-align: top;\n",
              "    }\n",
              "\n",
              "    .dataframe thead th {\n",
              "        text-align: right;\n",
              "    }\n",
              "</style>\n",
              "<table border=\"1\" class=\"dataframe\">\n",
              "  <thead>\n",
              "    <tr style=\"text-align: right;\">\n",
              "      <th></th>\n",
              "      <th>0</th>\n",
              "      <th>1</th>\n",
              "      <th>2</th>\n",
              "      <th>3</th>\n",
              "      <th>4</th>\n",
              "    </tr>\n",
              "    <tr>\n",
              "      <th>index</th>\n",
              "      <th></th>\n",
              "      <th></th>\n",
              "      <th></th>\n",
              "      <th></th>\n",
              "      <th></th>\n",
              "    </tr>\n",
              "  </thead>\n",
              "  <tbody>\n",
              "    <tr>\n",
              "      <th>0</th>\n",
              "      <td>0.0190</td>\n",
              "      <td>0.3676</td>\n",
              "      <td>0.5267</td>\n",
              "      <td>0.0693</td>\n",
              "      <td>0.0175</td>\n",
              "    </tr>\n",
              "    <tr>\n",
              "      <th>1</th>\n",
              "      <td>0.2290</td>\n",
              "      <td>0.6384</td>\n",
              "      <td>0.0212</td>\n",
              "      <td>0.0277</td>\n",
              "      <td>0.0837</td>\n",
              "    </tr>\n",
              "    <tr>\n",
              "      <th>2</th>\n",
              "      <td>0.9691</td>\n",
              "      <td>0.0188</td>\n",
              "      <td>0.0041</td>\n",
              "      <td>0.0011</td>\n",
              "      <td>0.0069</td>\n",
              "    </tr>\n",
              "    <tr>\n",
              "      <th>3</th>\n",
              "      <td>0.0319</td>\n",
              "      <td>0.0044</td>\n",
              "      <td>0.7783</td>\n",
              "      <td>0.0063</td>\n",
              "      <td>0.1791</td>\n",
              "    </tr>\n",
              "    <tr>\n",
              "      <th>4</th>\n",
              "      <td>0.8185</td>\n",
              "      <td>0.0570</td>\n",
              "      <td>0.0242</td>\n",
              "      <td>0.0808</td>\n",
              "      <td>0.0195</td>\n",
              "    </tr>\n",
              "  </tbody>\n",
              "</table>\n",
              "</div>"
            ],
            "text/plain": [
              "            0       1       2       3       4\n",
              "index                                        \n",
              "0      0.0190  0.3676  0.5267  0.0693  0.0175\n",
              "1      0.2290  0.6384  0.0212  0.0277  0.0837\n",
              "2      0.9691  0.0188  0.0041  0.0011  0.0069\n",
              "3      0.0319  0.0044  0.7783  0.0063  0.1791\n",
              "4      0.8185  0.0570  0.0242  0.0808  0.0195"
            ]
          },
          "metadata": {
            "tags": []
          },
          "execution_count": 116
        }
      ]
    },
    {
      "cell_type": "code",
      "metadata": {
        "ExecuteTime": {
          "start_time": "2020-11-09T08:51:19.896Z"
        },
        "id": "tZhbUjhXE3Yr"
      },
      "source": [
        "sub.to_csv(sub_file)"
      ],
      "execution_count": 117,
      "outputs": []
    },
    {
      "cell_type": "code",
      "metadata": {
        "id": "pAeoXQe_e99q"
      },
      "source": [
        ""
      ],
      "execution_count": 117,
      "outputs": []
    }
  ]
}