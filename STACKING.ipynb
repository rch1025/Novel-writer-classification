{
  "nbformat": 4,
  "nbformat_minor": 0,
  "metadata": {
    "colab": {
      "name": "STACKING.ipynb",
      "private_outputs": true,
      "provenance": [],
      "authorship_tag": "ABX9TyO/+ctX3YmR+UiIJ7eoFcFR",
      "include_colab_link": true
    },
    "kernelspec": {
      "name": "python3",
      "display_name": "Python 3"
    }
  },
  "cells": [
    {
      "cell_type": "markdown",
      "metadata": {
        "id": "view-in-github",
        "colab_type": "text"
      },
      "source": [
        "<a href=\"https://colab.research.google.com/github/Joonyoung-Song/DACON-NLP_competition/blob/main/STACKING.ipynb\" target=\"_parent\"><img src=\"https://colab.research.google.com/assets/colab-badge.svg\" alt=\"Open In Colab\"/></a>"
      ]
    },
    {
      "cell_type": "code",
      "metadata": {
        "id": "heY4jrtsLQua"
      },
      "source": [
        "from google.colab import drive\n",
        "drive.mount('/gdrive', force_remount=True)"
      ],
      "execution_count": null,
      "outputs": []
    },
    {
      "cell_type": "code",
      "metadata": {
        "id": "K_xsK1UeOSSu"
      },
      "source": [
        "import pandas as pd\n",
        "import numpy as np\n",
        "np.random.seed(42)\n",
        "import re\n",
        "import os\n",
        "import tqdm\n",
        "from pathlib import Path\n",
        "\n",
        "import lightgbm as lgb\n",
        "import xgboost as xgb\n",
        "\n",
        "from scipy import sparse\n",
        "from sklearn.model_selection import StratifiedKFold\n",
        "from sklearn.metrics import accuracy_score, log_loss\n",
        "from sklearn.decomposition import TruncatedSVD\n",
        "from sklearn import ensemble, metrics, model_selection, naive_bayes\n"
      ],
      "execution_count": null,
      "outputs": []
    },
    {
      "cell_type": "code",
      "metadata": {
        "id": "H_DTHs2rMngb"
      },
      "source": [
        "val_dir = Path('/gdrive/My Drive/dacon_nlp_competition/build/val')\n",
        "tst_dir = Path('/gdrive/My Drive/dacon_nlp_competition/build/tst')\n",
        "model_names = [\n",
        "'+gru15_emb16_  0.6000',\n",
        " 'LGB_tfidf',\n",
        " 'XGB_tfidf',\n",
        "'lstm15+gru15_emb_  0.6041',\n",
        "'CNN_emb_  0.6982',\n",
        "              ]\n",
        "stk_trn = []\n",
        "stk_tst = []\n",
        "feature_names = []\n",
        "for model in model_names:\n",
        "    stk_trn.append(np.loadtxt(val_dir / f'{model}.val.csv', delimiter=','))\n",
        "    stk_tst.append(np.loadtxt(tst_dir / f'{model}.tst.csv', delimiter=','))\n",
        "    feature_names += [f'{model}_class0', f'{model}_class1', f'{model}_class2', f'{model}_class3', f'{model}_class4']\n",
        "    \n",
        "stk_trn = np.hstack(stk_trn)\n",
        "stk_tst = np.hstack(stk_tst)\n",
        "feature_names"
      ],
      "execution_count": null,
      "outputs": []
    },
    {
      "cell_type": "code",
      "metadata": {
        "id": "o6uN8NdFPfe2"
      },
      "source": [
        "data_dir = Path('/gdrive/My Drive/dacon_nlp_competition/data')\n",
        "sub_dir = Path('/gdrive/My Drive/dacon_nlp_competition/build/sub')\n",
        "\n",
        "sample_file = data_dir / 'sample_submission.csv'\n",
        "\n",
        "trn_file = data_dir / 'train.csv'\n",
        "y=pd.read_csv(trn_file, encoding = 'utf-8',index_col=0)['author']"
      ],
      "execution_count": null,
      "outputs": []
    },
    {
      "cell_type": "code",
      "metadata": {
        "id": "9iOtV7aGPS6T"
      },
      "source": [
        "n_fold=5\n",
        "seed=42\n",
        "n_class=5\n",
        "cv = StratifiedKFold(n_splits=n_fold, shuffle=True, random_state=seed)"
      ],
      "execution_count": null,
      "outputs": []
    },
    {
      "cell_type": "code",
      "metadata": {
        "id": "5bQF3ETyPNPp"
      },
      "source": [
        "#  p_trn =np.zeros((stk_trn.shape[0], n_class))\n",
        "p_val = np.zeros((stk_trn.shape[0], n_class))\n",
        "p_tst = np.zeros((stk_tst.shape[0], n_class))\n",
        "for i, (i_trn, i_val) in enumerate(cv.split(stk_trn, y), 1):\n",
        "    print(f'training model for CV #{i}')\n",
        "    clf = lgb.LGBMClassifier(objective='multiclass',\n",
        "                             n_estimators=10000,\n",
        "                             learning_rate=0.01,\n",
        "                             boosting_type ='gbdt',\n",
        "                              max_depth=5,\n",
        "                               feature_fraction=0.4,\n",
        "#                               min_child_weight=0.01,\n",
        "                              num_leaves=30,\n",
        "                             random_state=seed,                    \n",
        "                             n_jobs=-1,\n",
        "                             verbose=100)\n",
        "    clf.fit(stk_trn[i_trn], y[i_trn],\n",
        "            eval_set=[(stk_trn[i_val], y[i_val])],\n",
        "            eval_metric='multi_logloss',early_stopping_rounds=100,\n",
        "            verbose=100)\n",
        "#     p_trn[i_trn, :] = clf.predict_proba(stk_trn[i_trn])\n",
        "    p_val[i_val, :] = clf.predict_proba(stk_trn[i_val])\n",
        "    p_tst += clf.predict_proba(stk_tst) / n_fold\n",
        "print()\n",
        "print('models:',model_names)\n",
        "print(clf)\n",
        "# print(f'train cv accuracy : {accuracy_score(y, np.argmax(p_trn, axis=1)) :.6f}')\n",
        "print(f'valid cv accuracy : {log_loss(y, p_val) :.6f}')"
      ],
      "execution_count": null,
      "outputs": []
    },
    {
      "cell_type": "code",
      "metadata": {
        "id": "NeJY7PLgh1dR"
      },
      "source": [
        "print(f'valid cv logloss : {log_loss(y, p_val) :.6f}') # 제출한 파일 로그로스 : 0.4389"
      ],
      "execution_count": null,
      "outputs": []
    },
    {
      "cell_type": "markdown",
      "metadata": {
        "id": "Rj1TlxGzQhRu"
      },
      "source": [
        "## 제출 파일 생성\n"
      ]
    },
    {
      "cell_type": "code",
      "metadata": {
        "ExecuteTime": {
          "start_time": "2020-11-09T08:51:19.093Z"
        },
        "id": "3jXKoOWIC6g0"
      },
      "source": [
        "sub = pd.read_csv(sample_file, index_col=0)\n",
        "print(sub.shape)\n",
        "sub.head()"
      ],
      "execution_count": null,
      "outputs": []
    },
    {
      "cell_type": "code",
      "metadata": {
        "ExecuteTime": {
          "start_time": "2020-11-09T08:51:19.342Z"
        },
        "id": "F4S8eUx5FDFO"
      },
      "source": [
        "sub[sub.columns] = p_tst\n",
        "sub.head()"
      ],
      "execution_count": null,
      "outputs": []
    },
    {
      "cell_type": "code",
      "metadata": {
        "id": "ttqKnBV5SFaw"
      },
      "source": [
        "algo_name = 'gru+lgb+xgb+(lstm+gru)+cnn'\n",
        "feature_name = 'stk'\n",
        "model_name = f'{algo_name}_{feature_name}'\n",
        "\n",
        "\n",
        "sub_file = sub_dir / f'{model_name}.csv'"
      ],
      "execution_count": null,
      "outputs": []
    },
    {
      "cell_type": "code",
      "metadata": {
        "ExecuteTime": {
          "start_time": "2020-11-09T08:51:19.896Z"
        },
        "id": "tZhbUjhXE3Yr"
      },
      "source": [
        "\n",
        "sub.to_csv(sub_file)"
      ],
      "execution_count": null,
      "outputs": []
    }
  ]
}